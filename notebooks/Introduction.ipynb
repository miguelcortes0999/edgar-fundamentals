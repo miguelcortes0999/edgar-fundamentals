{
 "cells": [
  {
   "cell_type": "markdown",
   "metadata": {},
   "source": [
    "# Import "
   ]
  },
  {
   "cell_type": "code",
   "execution_count": 2,
   "metadata": {},
   "outputs": [],
   "source": [
    "import os"
   ]
  },
  {
   "cell_type": "code",
   "execution_count": 9,
   "metadata": {},
   "outputs": [
    {
     "name": "stdout",
     "output_type": "stream",
     "text": [
      "c:\\Users\\migue\\Desktop\\edagar fundamentals project\\edgar-fundamentals\\Introduction.ipynb\n",
      "c:\\Users\\migue\\Desktop\\edagar fundamentals project\\edgar-fundamentals\\LICENSE\n",
      "c:\\Users\\migue\\Desktop\\edagar fundamentals project\\edgar-fundamentals\\README.md\n",
      "c:\\Users\\migue\\Desktop\\edagar fundamentals project\\edgar-fundamentals\\edgar_fundamentals\\pysec.py\n",
      "c:\\Users\\migue\\Desktop\\edagar fundamentals project\\edgar-fundamentals\\edgar_fundamentals\\__init__.py\n",
      "c:\\Users\\migue\\Desktop\\edagar fundamentals project\\edgar-fundamentals\\edgar_fundamentals\\__version__.py\n",
      "c:\\Users\\migue\\Desktop\\edagar fundamentals project\\edgar-fundamentals\\edgar_fundamentals\\utils\\constants.py\n",
      "c:\\Users\\migue\\Desktop\\edagar fundamentals project\\edgar-fundamentals\\edgar_fundamentals\\utils\\sec_api.py\n",
      "c:\\Users\\migue\\Desktop\\edagar fundamentals project\\edgar-fundamentals\\edgar_fundamentals\\utils\\__init__.py\n"
     ]
    }
   ],
   "source": [
    "files_list = []\n",
    "for root, _, files in os.walk(os.getcwd()):\n",
    "    for file in files:\n",
    "        file_path = os.path.join(root, file)\n",
    "        files_list.append(file_path)\n",
    "        if '.git' not in str(file_path):\n",
    "            print(file_path)"
   ]
  },
  {
   "cell_type": "code",
   "execution_count": 1,
   "metadata": {},
   "outputs": [
    {
     "ename": "ModuleNotFoundError",
     "evalue": "No module named 'utils'",
     "output_type": "error",
     "traceback": [
      "\u001b[1;31m---------------------------------------------------------------------------\u001b[0m",
      "\u001b[1;31mModuleNotFoundError\u001b[0m                       Traceback (most recent call last)",
      "Cell \u001b[1;32mIn[1], line 1\u001b[0m\n\u001b[1;32m----> 1\u001b[0m \u001b[38;5;28;01mfrom\u001b[39;00m\u001b[38;5;250m \u001b[39m\u001b[38;5;21;01medgar_fundamentals\u001b[39;00m\u001b[38;5;21;01m.\u001b[39;00m\u001b[38;5;21;01mpysec\u001b[39;00m\u001b[38;5;250m \u001b[39m\u001b[38;5;28;01mimport\u001b[39;00m PySEC\n",
      "File \u001b[1;32mc:\\Users\\migue\\Desktop\\edagar fundamentals project\\edgar-fundamentals\\edgar_fundamentals\\pysec.py:7\u001b[0m\n\u001b[0;32m      1\u001b[0m \u001b[38;5;124;03m\"\"\"\u001b[39;00m\n\u001b[0;32m      2\u001b[0m \u001b[38;5;124;03mpysec.py\u001b[39;00m\n\u001b[0;32m      3\u001b[0m \u001b[38;5;124;03mMain class that integrates SEC API client with financial calculations.\u001b[39;00m\n\u001b[0;32m      4\u001b[0m \u001b[38;5;124;03m\"\"\"\u001b[39;00m\n\u001b[0;32m      6\u001b[0m \u001b[38;5;28;01mimport\u001b[39;00m\u001b[38;5;250m \u001b[39m\u001b[38;5;21;01mpandas\u001b[39;00m\u001b[38;5;250m \u001b[39m\u001b[38;5;28;01mas\u001b[39;00m\u001b[38;5;250m \u001b[39m\u001b[38;5;21;01mpd\u001b[39;00m\n\u001b[1;32m----> 7\u001b[0m \u001b[38;5;28;01mfrom\u001b[39;00m\u001b[38;5;250m \u001b[39m\u001b[38;5;21;01m.\u001b[39;00m\u001b[38;5;21;01mutils\u001b[39;00m\u001b[38;5;21;01m.\u001b[39;00m\u001b[38;5;21;01msec_api\u001b[39;00m\u001b[38;5;250m \u001b[39m\u001b[38;5;28;01mimport\u001b[39;00m SECClient\n\u001b[0;32m      9\u001b[0m \u001b[38;5;28;01mclass\u001b[39;00m\u001b[38;5;250m \u001b[39m\u001b[38;5;21;01mPySEC\u001b[39;00m:\n\u001b[0;32m     10\u001b[0m \u001b[38;5;250m    \u001b[39m\u001b[38;5;124;03m\"\"\"Handles SEC data retrieval and financial metric computations.\"\"\"\u001b[39;00m\n",
      "File \u001b[1;32mc:\\Users\\migue\\Desktop\\edagar fundamentals project\\edgar-fundamentals\\edgar_fundamentals\\utils\\sec_api.py:8\u001b[0m\n\u001b[0;32m      6\u001b[0m \u001b[38;5;28;01mimport\u001b[39;00m\u001b[38;5;250m \u001b[39m\u001b[38;5;21;01mrequests\u001b[39;00m\n\u001b[0;32m      7\u001b[0m \u001b[38;5;28;01mimport\u001b[39;00m\u001b[38;5;250m \u001b[39m\u001b[38;5;21;01mpandas\u001b[39;00m\u001b[38;5;250m \u001b[39m\u001b[38;5;28;01mas\u001b[39;00m\u001b[38;5;250m \u001b[39m\u001b[38;5;21;01mpd\u001b[39;00m\n\u001b[1;32m----> 8\u001b[0m \u001b[38;5;28;01mfrom\u001b[39;00m\u001b[38;5;250m \u001b[39m\u001b[38;5;21;01mutils\u001b[39;00m\u001b[38;5;21;01m.\u001b[39;00m\u001b[38;5;21;01mconstants\u001b[39;00m\u001b[38;5;250m \u001b[39m\u001b[38;5;28;01mimport\u001b[39;00m SEC_TICKERS_URL, SEC_SUBMISSIONS_URL, SEC_FACTS_URL, USER_AGENT_TEMPLATE\n\u001b[0;32m     10\u001b[0m \u001b[38;5;28;01mclass\u001b[39;00m\u001b[38;5;250m \u001b[39m\u001b[38;5;21;01mSECClient\u001b[39;00m:\n\u001b[0;32m     11\u001b[0m \u001b[38;5;250m    \u001b[39m\u001b[38;5;124;03m\"\"\"Handles SEC API requests and company metadata retrieval.\"\"\"\u001b[39;00m\n",
      "\u001b[1;31mModuleNotFoundError\u001b[0m: No module named 'utils'"
     ]
    }
   ],
   "source": [
    "from edgar_fundamentals.pysec import PySEC"
   ]
  }
 ],
 "metadata": {
  "kernelspec": {
   "display_name": "Python 3",
   "language": "python",
   "name": "python3"
  },
  "language_info": {
   "codemirror_mode": {
    "name": "ipython",
    "version": 3
   },
   "file_extension": ".py",
   "mimetype": "text/x-python",
   "name": "python",
   "nbconvert_exporter": "python",
   "pygments_lexer": "ipython3",
   "version": "3.13.1"
  }
 },
 "nbformat": 4,
 "nbformat_minor": 2
}
